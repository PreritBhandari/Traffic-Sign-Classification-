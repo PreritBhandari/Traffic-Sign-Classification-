{
 "cells": [
  {
   "cell_type": "code",
   "execution_count": 24,
   "id": "d24b3af5",
   "metadata": {},
   "outputs": [],
   "source": [
    "import numpy as np"
   ]
  },
  {
   "cell_type": "code",
   "execution_count": 25,
   "id": "e2f746d9",
   "metadata": {},
   "outputs": [
    {
     "name": "stdout",
     "output_type": "stream",
     "text": [
      "/home/lostinserver/Documents/TSC using DevOps\n",
      "(39209, 30, 30, 3) (39209,)\n"
     ]
    }
   ],
   "source": [
    "import pandas as pd\n",
    "import matplotlib.pyplot as plt\n",
    "import tensorflow as tf \n",
    "from PIL import Image\n",
    "import os \n",
    "from sklearn.model_selection import train_test_split \n",
    "from tensorflow.keras.utils import to_categorical \n",
    "from keras.models import Sequential \n",
    "from keras.layers import Conv2D, MaxPool2D, Dense, Flatten, Dropout\n",
    "data = []\n",
    "labels = []\n",
    "classes = 43 \n",
    "cur_path = os.getcwd() \n",
    "print (cur_path)\n",
    "for i in range(classes): \n",
    "  path = os.path.join(cur_path,'train', str(i)) \n",
    "  images = os.listdir(path)\n",
    "  for a in images: \n",
    "     try: \n",
    "         image = Image.open(path + '/'+ a) \n",
    "         image = image.resize((30,30)) \n",
    "         image = np.array(image) \n",
    "         data.append(image) \n",
    "         labels.append(i) \n",
    "     except: \n",
    "         print(\"Error loading image\") \n",
    "data = np.array(data)\n",
    "labels = np.array(labels)\n",
    "print(data.shape, labels.shape) "
   ]
  },
  {
   "cell_type": "code",
   "execution_count": 26,
   "id": "ade06ccf",
   "metadata": {},
   "outputs": [
    {
     "name": "stdout",
     "output_type": "stream",
     "text": [
      "(31367, 30, 30, 3) (7842, 30, 30, 3) (31367,) (7842,)\n"
     ]
    }
   ],
   "source": [
    "X_train, X_test, y_train, y_test =train_test_split(data, labels, test_size=0.2, random_state=0)\n",
    "print(X_train.shape, X_test.shape, y_train.shape, y_test.shape)"
   ]
  },
  {
   "cell_type": "code",
   "execution_count": 27,
   "id": "e7dc73e3",
   "metadata": {},
   "outputs": [],
   "source": [
    "y_train = to_categorical(y_train,43) \n",
    "y_test = to_categorical(y_test,43)"
   ]
  },
  {
   "cell_type": "code",
   "execution_count": 28,
   "id": "917a2e82",
   "metadata": {},
   "outputs": [],
   "source": [
    "model =Sequential() \n",
    "model.add(Conv2D(filters=32, kernel_size=(5,5), activation='relu', input_shape=X_train.shape[1:])) \n",
    "model.add(Conv2D(filters=32, kernel_size=(5,5), activation='relu')) \n",
    "model.add(MaxPool2D(pool_size=(2,2)))\n",
    "model.add(Dropout(rate=0.25)) \n",
    "model.add(Conv2D(filters=64, kernel_size=(3,3), activation='relu')) \n",
    "model.add(Conv2D(filters=64, kernel_size=(3,3), activation='relu')) \n",
    "model.add(MaxPool2D(pool_size=(2,2)))\n",
    "model.add(Dropout(rate=0.25)) \n",
    "model.add(Flatten())\n",
    "model.add(Dense(256, activation='relu')) \n",
    "model.add(Dropout(rate=0.5))\n",
    "\n",
    "# We have 43 classes that's why we have defined 43in the dense \n",
    "\n",
    "model.add(Dense(43, activation='softmax'))"
   ]
  },
  {
   "cell_type": "code",
   "execution_count": 29,
   "id": "dc367a6b",
   "metadata": {},
   "outputs": [
    {
     "name": "stdout",
     "output_type": "stream",
     "text": [
      "Epoch 1/5\n",
      "981/981 [==============================] - 103s 102ms/step - loss: 2.2450 - accuracy: 0.4312 - val_loss: 0.8124 - val_accuracy: 0.7793\n",
      "Epoch 2/5\n",
      "981/981 [==============================] - 101s 103ms/step - loss: 1.0230 - accuracy: 0.6963 - val_loss: 0.3786 - val_accuracy: 0.8889\n",
      "Epoch 3/5\n",
      "981/981 [==============================] - 101s 103ms/step - loss: 0.7622 - accuracy: 0.7693 - val_loss: 0.4644 - val_accuracy: 0.8493\n",
      "Epoch 4/5\n",
      "981/981 [==============================] - 112s 114ms/step - loss: 0.5176 - accuracy: 0.8414 - val_loss: 0.1761 - val_accuracy: 0.9499\n",
      "Epoch 5/5\n",
      "981/981 [==============================] - 99s 101ms/step - loss: 0.4135 - accuracy: 0.8757 - val_loss: 0.1868 - val_accuracy: 0.9498\n"
     ]
    }
   ],
   "source": [
    "#Compilation of the model \n",
    "model.compile(loss='categorical_crossentropy', optimizer='adam', metrics=['accuracy']) \n",
    "epochs = 5 \n",
    "history = model.fit(X_train, y_train, batch_size=32, epochs=epochs, validation_data=(X_test, y_test))"
   ]
  },
  {
   "cell_type": "code",
   "execution_count": 30,
   "id": "ec98fc0d",
   "metadata": {},
   "outputs": [],
   "source": [
    "model.save(\"./training/TSR.h5\")"
   ]
  },
  {
   "cell_type": "code",
   "execution_count": 31,
   "id": "2e66fb68",
   "metadata": {},
   "outputs": [],
   "source": [
    "from sklearn.metrics import accuracy_score\n",
    "y_test = pd.read_csv('Test.csv')\n",
    "labels = y_test[\"ClassId\"].values\n",
    "imgs = y_test[\"Path\"].values\n",
    "data=[]\n",
    "for img in imgs:\n",
    "   image = Image.open(img)\n",
    "   image = image.resize((30,30))\n",
    "   data.append(np.array(image))\n",
    "X_test=np.array(data)\n",
    "predict=np.argmax(model.predict(X_test), axis=-1)\n"
   ]
  },
  {
   "cell_type": "code",
   "execution_count": 32,
   "id": "9da52c61",
   "metadata": {},
   "outputs": [
    {
     "name": "stdout",
     "output_type": "stream",
     "text": [
      "0.9091844813935075\n"
     ]
    }
   ],
   "source": [
    "from sklearn.metrics import accuracy_score\n",
    "print(accuracy_score(labels, predict))"
   ]
  },
  {
   "cell_type": "code",
   "execution_count": null,
   "id": "e114dafb",
   "metadata": {},
   "outputs": [],
   "source": []
  }
 ],
 "metadata": {
  "kernelspec": {
   "display_name": "Python 3 (ipykernel)",
   "language": "python",
   "name": "python3"
  },
  "language_info": {
   "codemirror_mode": {
    "name": "ipython",
    "version": 3
   },
   "file_extension": ".py",
   "mimetype": "text/x-python",
   "name": "python",
   "nbconvert_exporter": "python",
   "pygments_lexer": "ipython3",
   "version": "3.8.10"
  }
 },
 "nbformat": 4,
 "nbformat_minor": 5
}
